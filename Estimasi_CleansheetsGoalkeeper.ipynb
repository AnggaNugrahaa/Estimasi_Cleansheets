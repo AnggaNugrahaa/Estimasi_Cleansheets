{
 "cells": [
  {
   "attachments": {},
   "cell_type": "markdown",
   "metadata": {},
   "source": [
    "# Penjelasan CripsDm"
   ]
  },
  {
   "attachments": {},
   "cell_type": "markdown",
   "metadata": {},
   "source": [
    "# 1. BUSSINESS UNDERSTANDING"
   ]
  },
  {
   "attachments": {},
   "cell_type": "markdown",
   "metadata": {},
   "source": [
    "Bussiness Understanding Merupakan awal dari sebuah proyek data analytics. Tahapan ini akan dapat menghasilkan perencanaan sebuah proyek data analytics yang jelas tujuannya, bagaimana membangun atau mendapatkan data, dan bagaimana untuk mencocokan tujuan pemodelan untuk tujuan bisnis sehingga model terbaik dapat dibangun. \n",
    "Sepakbola adalah permainan tim dengan 11 orang di dalamnya. Setiap tim terdiri dari beberapa posisi pemain yang saling menunjang. Salah satu posisi yang paling spesial dalam permainan sepakbola adalah penjaga gawang alias kiper,\n",
    "Pasalnya, kiper merupakan pemain terakhir yang berada di garis pertahanan sepakbola untuk mencegah tim lawan mencetak gol. Dia bisa melakukan tugasnya dengan meninju, menepis, atau menangkap bola.\n",
    "jadi disini saya membuat estimasi dengan Jumlah Cleansheets dari seorang kiper di Pertandingan UCL.\n",
    "\n",
    "Dataset:\"https://www.kaggle.com/datasets/azminetoushikwasi/ucl-202122-uefa-champions-league?select=goalkeeping.csv\"\n",
    "\n",
    "Tujuan: Tujuannya agar memprediksi jumlah cleansheet kiper didalam pertandingan tersebut"
   ]
  },
  {
   "attachments": {},
   "cell_type": "markdown",
   "metadata": {},
   "source": [
    "# 2. Data Understanding"
   ]
  },
  {
   "attachments": {},
   "cell_type": "markdown",
   "metadata": {},
   "source": [
    "Didalam Data ini berisi:\n",
    "\n",
    "0   serial          : No Seri Pemain\n",
    "\n",
    "1   player_name     : Nama Pemain\n",
    "\n",
    "2   club            : Klub Pemain\n",
    "\n",
    "3   position        : Posisi Pemain\n",
    "\n",
    "4   saved           : Jumlah Penyelamatan\n",
    "\n",
    "5   conceded        : Jumlah Kebobolan\n",
    "\n",
    "6   saved_penalties : Jumlah Penyelamatan Pinalti\n",
    "\n",
    "7   cleansheets     : Jumlah Tidak Kebobolan\n",
    "\n",
    "8   punchesmade     : Jumlah Penyelamatan melalui pukulan\n",
    "\n",
    "9   match_played    : Jumlah Bermain \n",
    "\n",
    "Selanjutnya Beserta Tipea datanya :\n",
    "\n",
    "Terdapat data int64 sebanyak 7, lalu object ada 3\n",
    "\n",
    "0   serial           53 non-null     int64\n",
    "\n",
    "1   player_name      53 non-null     object\n",
    "\n",
    "2   club             53 non-null     object\n",
    "\n",
    "3   position         53 non-null     object\n",
    "\n",
    "4   saved            53 non-null     int64 \n",
    "\n",
    "5   conceded         53 non-null     int64 \n",
    "\n",
    "6   saved_penalties  53 non-null     int64 \n",
    "\n",
    "7   cleansheets      53 non-null     int64 \n",
    "\n",
    "8   punchesmade      53 non-null     int64 \n",
    "\n",
    "9   match_played     53 non-null     int64 \n",
    "\n"
   ]
  },
  {
   "attachments": {},
   "cell_type": "markdown",
   "metadata": {},
   "source": [
    "# 3. Data Preparation"
   ]
  },
  {
   "attachments": {},
   "cell_type": "markdown",
   "metadata": {},
   "source": [
    "Data Preparation atau bisa disebut juga dengan data preprocessing adalah suatu proses/langkah yang dilakukan untuk membuat data mentah menjadi data yang berkualitas, Pada tahap ini memastikan data yang tepat berdasarkan model algoritma yang digunakan yaitu Regresi Linear Data yang tepat untuk digunakan : match_played, conceded, saved_penalties, saved, punchmades, cleansheets.\n",
    "\n",
    "(x)feature :match_played, conceded, saved_penalties, saved, punchmades.\n",
    "\n",
    "(y)label : cleansheets."
   ]
  },
  {
   "attachments": {},
   "cell_type": "markdown",
   "metadata": {},
   "source": [
    "# 4. Modeling"
   ]
  },
  {
   "attachments": {},
   "cell_type": "markdown",
   "metadata": {},
   "source": [
    "Tahap keempat adalah Modelling. Secara garis besar untuk membuat model prediktif atau deskriptif.\n",
    "Pada tahap ini dilakukan metode statistika dan Machine Learning untuk penentuan terhadap teknik data mining,\n",
    "alat bantu data mining, dan algoritma data mining yang akan diterapkan.\n",
    "Disini saya menggunakan model regresi linier dengan algoritma: sklearn.linear_model"
   ]
  },
  {
   "attachments": {},
   "cell_type": "markdown",
   "metadata": {},
   "source": [
    "# 5. Evaluation"
   ]
  },
  {
   "attachments": {},
   "cell_type": "markdown",
   "metadata": {},
   "source": [
    "Tahap kelima yaitu Evaluation. Setelah didapatkan sebuah atau beberapa model sehingga dilakukan penilaian terkait kualitas dan efektifitas-nya. Disini saya menggunakan contoh yaitu = match_played:13,conceded:14,saved_penalties:1,saved:61,punchesmade:4\n",
    "\n",
    "Estimasi Jumlah Cleansheets adalah [5.0049351]"
   ]
  },
  {
   "attachments": {},
   "cell_type": "markdown",
   "metadata": {},
   "source": [
    "# 6. Deployment"
   ]
  },
  {
   "attachments": {},
   "cell_type": "markdown",
   "metadata": {},
   "source": [
    "Tahap deployment atau rencana penggunaan model adalah tahap yang paling dihargai dari proses CRISP-DM. Perencanaan untuk Deployment dimulai selama Business Understanding dan harus menggabungkan tidak hanya bagaimana untuk menghasilkan nilai model, tetapi juga bagaimana mengkonversi skor keputusan, dan bagaimana untuk menggabungkan keputusan dalam sistem operasional."
   ]
  },
  {
   "attachments": {},
   "cell_type": "markdown",
   "metadata": {},
   "source": [
    "# deskripsi library yang digunakan"
   ]
  },
  {
   "cell_type": "code",
   "execution_count": 2,
   "metadata": {},
   "outputs": [],
   "source": [
    "import pandas as pd\n",
    "import numpy as np\n",
    "import matplotlib.pyplot as plt\n",
    "import seaborn as sns"
   ]
  },
  {
   "attachments": {},
   "cell_type": "markdown",
   "metadata": {},
   "source": [
    "# Memanggil Dataset"
   ]
  },
  {
   "cell_type": "code",
   "execution_count": 3,
   "metadata": {},
   "outputs": [],
   "source": [
    "df = pd.read_csv('goalkeeping.csv')"
   ]
  },
  {
   "attachments": {},
   "cell_type": "markdown",
   "metadata": {},
   "source": [
    "DESKRIPSI DATASET"
   ]
  },
  {
   "cell_type": "code",
   "execution_count": 4,
   "metadata": {},
   "outputs": [
    {
     "data": {
      "text/html": [
       "<div>\n",
       "<style scoped>\n",
       "    .dataframe tbody tr th:only-of-type {\n",
       "        vertical-align: middle;\n",
       "    }\n",
       "\n",
       "    .dataframe tbody tr th {\n",
       "        vertical-align: top;\n",
       "    }\n",
       "\n",
       "    .dataframe thead th {\n",
       "        text-align: right;\n",
       "    }\n",
       "</style>\n",
       "<table border=\"1\" class=\"dataframe\">\n",
       "  <thead>\n",
       "    <tr style=\"text-align: right;\">\n",
       "      <th></th>\n",
       "      <th>serial</th>\n",
       "      <th>player_name</th>\n",
       "      <th>club</th>\n",
       "      <th>position</th>\n",
       "      <th>saved</th>\n",
       "      <th>conceded</th>\n",
       "      <th>saved_penalties</th>\n",
       "      <th>cleansheets</th>\n",
       "      <th>punchesmade</th>\n",
       "      <th>match_played</th>\n",
       "    </tr>\n",
       "  </thead>\n",
       "  <tbody>\n",
       "    <tr>\n",
       "      <th>0</th>\n",
       "      <td>1</td>\n",
       "      <td>Courtois</td>\n",
       "      <td>Real Madrid</td>\n",
       "      <td>Goalkeeper</td>\n",
       "      <td>61</td>\n",
       "      <td>14</td>\n",
       "      <td>1</td>\n",
       "      <td>5</td>\n",
       "      <td>4</td>\n",
       "      <td>13</td>\n",
       "    </tr>\n",
       "    <tr>\n",
       "      <th>1</th>\n",
       "      <td>2</td>\n",
       "      <td>Rulli</td>\n",
       "      <td>Villarreal</td>\n",
       "      <td>Goalkeeper</td>\n",
       "      <td>41</td>\n",
       "      <td>16</td>\n",
       "      <td>0</td>\n",
       "      <td>3</td>\n",
       "      <td>12</td>\n",
       "      <td>12</td>\n",
       "    </tr>\n",
       "    <tr>\n",
       "      <th>2</th>\n",
       "      <td>3</td>\n",
       "      <td>Vlachodimos</td>\n",
       "      <td>Benfica</td>\n",
       "      <td>Goalkeeper</td>\n",
       "      <td>38</td>\n",
       "      <td>17</td>\n",
       "      <td>1</td>\n",
       "      <td>5</td>\n",
       "      <td>5</td>\n",
       "      <td>10</td>\n",
       "    </tr>\n",
       "    <tr>\n",
       "      <th>3</th>\n",
       "      <td>4</td>\n",
       "      <td>Athanasiadis</td>\n",
       "      <td>Sheriff</td>\n",
       "      <td>Goalkeeper</td>\n",
       "      <td>29</td>\n",
       "      <td>8</td>\n",
       "      <td>0</td>\n",
       "      <td>1</td>\n",
       "      <td>2</td>\n",
       "      <td>5</td>\n",
       "    </tr>\n",
       "    <tr>\n",
       "      <th>4</th>\n",
       "      <td>5</td>\n",
       "      <td>Mignolet</td>\n",
       "      <td>Club Brugge</td>\n",
       "      <td>Goalkeeper</td>\n",
       "      <td>28</td>\n",
       "      <td>20</td>\n",
       "      <td>0</td>\n",
       "      <td>0</td>\n",
       "      <td>1</td>\n",
       "      <td>6</td>\n",
       "    </tr>\n",
       "  </tbody>\n",
       "</table>\n",
       "</div>"
      ],
      "text/plain": [
       "   serial   player_name         club    position  saved  conceded  \\\n",
       "0       1      Courtois  Real Madrid  Goalkeeper     61        14   \n",
       "1       2         Rulli   Villarreal  Goalkeeper     41        16   \n",
       "2       3   Vlachodimos      Benfica  Goalkeeper     38        17   \n",
       "3       4  Athanasiadis      Sheriff  Goalkeeper     29         8   \n",
       "4       5      Mignolet  Club Brugge  Goalkeeper     28        20   \n",
       "\n",
       "   saved_penalties  cleansheets  punchesmade  match_played  \n",
       "0                1            5            4            13  \n",
       "1                0            3           12            12  \n",
       "2                1            5            5            10  \n",
       "3                0            1            2             5  \n",
       "4                0            0            1             6  "
      ]
     },
     "execution_count": 4,
     "metadata": {},
     "output_type": "execute_result"
    }
   ],
   "source": [
    "df.head()"
   ]
  },
  {
   "cell_type": "code",
   "execution_count": 5,
   "metadata": {},
   "outputs": [
    {
     "name": "stdout",
     "output_type": "stream",
     "text": [
      "<class 'pandas.core.frame.DataFrame'>\n",
      "RangeIndex: 53 entries, 0 to 52\n",
      "Data columns (total 10 columns):\n",
      " #   Column           Non-Null Count  Dtype \n",
      "---  ------           --------------  ----- \n",
      " 0   serial           53 non-null     int64 \n",
      " 1   player_name      53 non-null     object\n",
      " 2   club             53 non-null     object\n",
      " 3   position         53 non-null     object\n",
      " 4   saved            53 non-null     int64 \n",
      " 5   conceded         53 non-null     int64 \n",
      " 6   saved_penalties  53 non-null     int64 \n",
      " 7   cleansheets      53 non-null     int64 \n",
      " 8   punchesmade      53 non-null     int64 \n",
      " 9   match_played     53 non-null     int64 \n",
      "dtypes: int64(7), object(3)\n",
      "memory usage: 4.3+ KB\n"
     ]
    }
   ],
   "source": [
    "df.info()"
   ]
  },
  {
   "cell_type": "code",
   "execution_count": 6,
   "metadata": {},
   "outputs": [
    {
     "data": {
      "text/plain": [
       "<AxesSubplot:>"
      ]
     },
     "execution_count": 6,
     "metadata": {},
     "output_type": "execute_result"
    },
    {
     "data": {
      "image/png": "[encoded data removed]",
      "text/plain": [
       "<Figure size 432x288 with 2 Axes>"
      ]
     },
     "metadata": {
      "needs_background": "light"
     },
     "output_type": "display_data"
    }
   ],
   "source": [
    "sns.heatmap(df.isnull())"
   ]
  },
  {
   "cell_type": "code",
   "execution_count": 7,
   "metadata": {},
   "outputs": [
    {
     "data": {
      "text/html": [
       "<div>\n",
       "<style scoped>\n",
       "    .dataframe tbody tr th:only-of-type {\n",
       "        vertical-align: middle;\n",
       "    }\n",
       "\n",
       "    .dataframe tbody tr th {\n",
       "        vertical-align: top;\n",
       "    }\n",
       "\n",
       "    .dataframe thead th {\n",
       "        text-align: right;\n",
       "    }\n",
       "</style>\n",
       "<table border=\"1\" class=\"dataframe\">\n",
       "  <thead>\n",
       "    <tr style=\"text-align: right;\">\n",
       "      <th></th>\n",
       "      <th>serial</th>\n",
       "      <th>saved</th>\n",
       "      <th>conceded</th>\n",
       "      <th>saved_penalties</th>\n",
       "      <th>cleansheets</th>\n",
       "      <th>punchesmade</th>\n",
       "      <th>match_played</th>\n",
       "    </tr>\n",
       "  </thead>\n",
       "  <tbody>\n",
       "    <tr>\n",
       "      <th>count</th>\n",
       "      <td>53.000000</td>\n",
       "      <td>53.000000</td>\n",
       "      <td>53.000000</td>\n",
       "      <td>53.000000</td>\n",
       "      <td>53.000000</td>\n",
       "      <td>53.000000</td>\n",
       "      <td>53.000000</td>\n",
       "    </tr>\n",
       "    <tr>\n",
       "      <th>mean</th>\n",
       "      <td>25.962264</td>\n",
       "      <td>13.528302</td>\n",
       "      <td>7.169811</td>\n",
       "      <td>0.113208</td>\n",
       "      <td>1.320755</td>\n",
       "      <td>2.075472</td>\n",
       "      <td>4.773585</td>\n",
       "    </tr>\n",
       "    <tr>\n",
       "      <th>std</th>\n",
       "      <td>15.197371</td>\n",
       "      <td>11.025502</td>\n",
       "      <td>5.158025</td>\n",
       "      <td>0.319878</td>\n",
       "      <td>1.541398</td>\n",
       "      <td>2.622749</td>\n",
       "      <td>3.394801</td>\n",
       "    </tr>\n",
       "    <tr>\n",
       "      <th>min</th>\n",
       "      <td>1.000000</td>\n",
       "      <td>1.000000</td>\n",
       "      <td>0.000000</td>\n",
       "      <td>0.000000</td>\n",
       "      <td>0.000000</td>\n",
       "      <td>0.000000</td>\n",
       "      <td>1.000000</td>\n",
       "    </tr>\n",
       "    <tr>\n",
       "      <th>25%</th>\n",
       "      <td>11.000000</td>\n",
       "      <td>5.000000</td>\n",
       "      <td>3.000000</td>\n",
       "      <td>0.000000</td>\n",
       "      <td>0.000000</td>\n",
       "      <td>0.000000</td>\n",
       "      <td>2.000000</td>\n",
       "    </tr>\n",
       "    <tr>\n",
       "      <th>50%</th>\n",
       "      <td>25.000000</td>\n",
       "      <td>13.000000</td>\n",
       "      <td>6.000000</td>\n",
       "      <td>0.000000</td>\n",
       "      <td>1.000000</td>\n",
       "      <td>1.000000</td>\n",
       "      <td>5.000000</td>\n",
       "    </tr>\n",
       "    <tr>\n",
       "      <th>75%</th>\n",
       "      <td>38.000000</td>\n",
       "      <td>18.000000</td>\n",
       "      <td>11.000000</td>\n",
       "      <td>0.000000</td>\n",
       "      <td>2.000000</td>\n",
       "      <td>3.000000</td>\n",
       "      <td>6.000000</td>\n",
       "    </tr>\n",
       "    <tr>\n",
       "      <th>max</th>\n",
       "      <td>52.000000</td>\n",
       "      <td>61.000000</td>\n",
       "      <td>20.000000</td>\n",
       "      <td>1.000000</td>\n",
       "      <td>5.000000</td>\n",
       "      <td>12.000000</td>\n",
       "      <td>13.000000</td>\n",
       "    </tr>\n",
       "  </tbody>\n",
       "</table>\n",
       "</div>"
      ],
      "text/plain": [
       "          serial      saved   conceded  saved_penalties  cleansheets  \\\n",
       "count  53.000000  53.000000  53.000000        53.000000    53.000000   \n",
       "mean   25.962264  13.528302   7.169811         0.113208     1.320755   \n",
       "std    15.197371  11.025502   5.158025         0.319878     1.541398   \n",
       "min     1.000000   1.000000   0.000000         0.000000     0.000000   \n",
       "25%    11.000000   5.000000   3.000000         0.000000     0.000000   \n",
       "50%    25.000000  13.000000   6.000000         0.000000     1.000000   \n",
       "75%    38.000000  18.000000  11.000000         0.000000     2.000000   \n",
       "max    52.000000  61.000000  20.000000         1.000000     5.000000   \n",
       "\n",
       "       punchesmade  match_played  \n",
       "count    53.000000     53.000000  \n",
       "mean      2.075472      4.773585  \n",
       "std       2.622749      3.394801  \n",
       "min       0.000000      1.000000  \n",
       "25%       0.000000      2.000000  \n",
       "50%       1.000000      5.000000  \n",
       "75%       3.000000      6.000000  \n",
       "max      12.000000     13.000000  "
      ]
     },
     "execution_count": 7,
     "metadata": {},
     "output_type": "execute_result"
    }
   ],
   "source": [
    "df.describe()"
   ]
  },
  {
   "attachments": {},
   "cell_type": "markdown",
   "metadata": {},
   "source": [
    "VISUALISASI DATA"
   ]
  },
  {
   "cell_type": "code",
   "execution_count": 8,
   "metadata": {},
   "outputs": [
    {
     "data": {
      "text/plain": [
       "<AxesSubplot:>"
      ]
     },
     "execution_count": 8,
     "metadata": {},
     "output_type": "execute_result"
    },
    {
     "data": {
      "image/png": "[encoded data removed]",
      "text/plain": [
       "<Figure size 720x576 with 2 Axes>"
      ]
     },
     "metadata": {
      "needs_background": "light"
     },
     "output_type": "display_data"
    }
   ],
   "source": [
    "plt.figure(figsize=(10,8))\n",
    "sns.heatmap(df.corr(),annot=True)"
   ]
  },
  {
   "attachments": {},
   "cell_type": "markdown",
   "metadata": {},
   "source": [
    "# Jumlah Rating berdasarkan Klub"
   ]
  },
  {
   "cell_type": "code",
   "execution_count": 9,
   "metadata": {},
   "outputs": [],
   "source": [
    "models = df.groupby('club').count()[['match_played']].sort_values(by='match_played',ascending=True).reset_index()\n",
    "models = models.rename(columns={'match_played':'NumberOfClub'})"
   ]
  },
  {
   "cell_type": "code",
   "execution_count": 10,
   "metadata": {},
   "outputs": [
    {
     "data": {
      "text/plain": [
       "(array([ 0,  1,  2,  3,  4,  5,  6,  7,  8,  9, 10, 11, 12, 13, 14, 15, 16,\n",
       "        17, 18, 19, 20, 21, 22, 23, 24, 25, 26, 27, 28, 29, 30, 31]),\n",
       " [Text(0, 0, 'Liverpool'),\n",
       "  Text(1, 0, 'Porto'),\n",
       "  Text(2, 0, 'Real Madrid'),\n",
       "  Text(3, 0, 'Salzburg'),\n",
       "  Text(4, 0, 'Sevilla'),\n",
       "  Text(5, 0, 'Inter'),\n",
       "  Text(6, 0, 'Dortmund'),\n",
       "  Text(7, 0, 'Club Brugge'),\n",
       "  Text(8, 0, 'Villarreal'),\n",
       "  Text(9, 0, 'Benfica'),\n",
       "  Text(10, 0, 'Barcelona'),\n",
       "  Text(11, 0, 'Atlético'),\n",
       "  Text(12, 0, 'Atalanta'),\n",
       "  Text(13, 0, 'Paris'),\n",
       "  Text(14, 0, 'Sheriff'),\n",
       "  Text(15, 0, 'Wolfsburg'),\n",
       "  Text(16, 0, 'Sporting CP'),\n",
       "  Text(17, 0, 'Milan'),\n",
       "  Text(18, 0, 'Ajax'),\n",
       "  Text(19, 0, 'Malmö'),\n",
       "  Text(20, 0, 'Young Boys'),\n",
       "  Text(21, 0, 'Leipzig'),\n",
       "  Text(22, 0, 'LOSC'),\n",
       "  Text(23, 0, 'Juventus'),\n",
       "  Text(24, 0, 'Dynamo Kyiv'),\n",
       "  Text(25, 0, 'Chelsea'),\n",
       "  Text(26, 0, 'Beşiktaş'),\n",
       "  Text(27, 0, 'Bayern'),\n",
       "  Text(28, 0, 'Man. United'),\n",
       "  Text(29, 0, 'Zenit'),\n",
       "  Text(30, 0, 'Man. City'),\n",
       "  Text(31, 0, 'Shakhtar Donetsk')])"
      ]
     },
     "execution_count": 10,
     "metadata": {},
     "output_type": "execute_result"
    },
    {
     "data": {
      "image/png": "[encoded data removed]",
      "text/plain": [
       "<Figure size 1080x360 with 1 Axes>"
      ]
     },
     "metadata": {
      "needs_background": "light"
     },
     "output_type": "display_data"
    }
   ],
   "source": [
    "fig = plt.figure(figsize=(15,5))\n",
    "sns.barplot(x=models['club'], y=models['NumberOfClub'])\n",
    "plt.xticks(rotation=60)"
   ]
  },
  {
   "attachments": {},
   "cell_type": "markdown",
   "metadata": {},
   "source": [
    "# Distribusi Jumlah Penyelamatan(Saved)"
   ]
  },
  {
   "cell_type": "code",
   "execution_count": 4,
   "metadata": {},
   "outputs": [
    {
     "name": "stderr",
     "output_type": "stream",
     "text": [
      "C:\\Users\\USER\\AppData\\Local\\Temp\\ipykernel_11560\\3274866845.py:2: UserWarning: \n",
      "\n",
      "`distplot` is a deprecated function and will be removed in seaborn v0.14.0.\n",
      "\n",
      "Please adapt your code to use either `displot` (a figure-level function with\n",
      "similar flexibility) or `histplot` (an axes-level function for histograms).\n",
      "\n",
      "For a guide to updating your code to use the new functions, please see\n",
      "https://gist.github.com/mwaskom/de44147ed2974457ad6372750bbe5751\n",
      "\n",
      "  sns.distplot(df['saved'])\n"
     ]
    },
    {
     "data": {
      "text/plain": [
       "<Axes: xlabel='saved', ylabel='Density'>"
      ]
     },
     "execution_count": 4,
     "metadata": {},
     "output_type": "execute_result"
    },
    {
     "data": {
      "image/png": "[encoded data removed]",
      "text/plain": [
       "<Figure size 1500x500 with 1 Axes>"
      ]
     },
     "metadata": {},
     "output_type": "display_data"
    }
   ],
   "source": [
    "plt.figure(figsize=(15,5))\n",
    "sns.distplot(df['saved'])"
   ]
  },
  {
   "attachments": {},
   "cell_type": "markdown",
   "metadata": {},
   "source": [
    "SELEKSI FITUR"
   ]
  },
  {
   "cell_type": "code",
   "execution_count": 11,
   "metadata": {},
   "outputs": [
    {
     "data": {
      "text/plain": [
       "((53, 5), (53,))"
      ]
     },
     "execution_count": 11,
     "metadata": {},
     "output_type": "execute_result"
    }
   ],
   "source": [
    "features = ['match_played','conceded','saved_penalties','saved','punchesmade']\n",
    "x = df[features]\n",
    "y = df['cleansheets']\n",
    "x.shape, y.shape"
   ]
  },
  {
   "attachments": {},
   "cell_type": "markdown",
   "metadata": {},
   "source": [
    "SPLIT DATA TRAINING DAN DATA TESTING"
   ]
  },
  {
   "cell_type": "code",
   "execution_count": 12,
   "metadata": {},
   "outputs": [
    {
     "data": {
      "text/plain": [
       "(14,)"
      ]
     },
     "execution_count": 12,
     "metadata": {},
     "output_type": "execute_result"
    }
   ],
   "source": [
    "from sklearn.model_selection import train_test_split\n",
    "x_train, X_test, y_train, y_test = train_test_split(x,y,random_state=70)\n",
    "y_test.shape"
   ]
  },
  {
   "attachments": {},
   "cell_type": "markdown",
   "metadata": {},
   "source": [
    "MEMBUAT MODEL REGRESI LINIER"
   ]
  },
  {
   "cell_type": "code",
   "execution_count": 13,
   "metadata": {},
   "outputs": [],
   "source": [
    "from sklearn.linear_model import LinearRegression\n",
    "lr = LinearRegression()\n",
    "lr.fit(x_train,y_train)\n",
    "pred = lr.predict(X_test)"
   ]
  },
  {
   "cell_type": "code",
   "execution_count": 14,
   "metadata": {},
   "outputs": [
    {
     "name": "stdout",
     "output_type": "stream",
     "text": [
      "akurasi model regresi linier =  0.9067094785549755\n"
     ]
    }
   ],
   "source": [
    "score = lr.score(X_test, y_test)\n",
    "print('akurasi model regresi linier = ', score)"
   ]
  },
  {
   "attachments": {},
   "cell_type": "markdown",
   "metadata": {},
   "source": [
    "MEMBUAT INPUTAN MODEL REGRESI LINIER"
   ]
  },
  {
   "cell_type": "code",
   "execution_count": 15,
   "metadata": {},
   "outputs": [
    {
     "name": "stdout",
     "output_type": "stream",
     "text": [
      "Estimasi Jumlah Cleansheets adalah [5.0049351]\n"
     ]
    }
   ],
   "source": [
    "#match_played:13,conceded:14,saved_penalties:1,saved:61,punchesmade:4\n",
    "input_data = np.array([[13,14,1,61,4]])\n",
    "\n",
    "prediction = lr.predict(input_data)\n",
    "print('Estimasi Jumlah Cleansheets adalah', prediction)"
   ]
  },
  {
   "attachments": {},
   "cell_type": "markdown",
   "metadata": {},
   "source": [
    "SAVE MODEL"
   ]
  },
  {
   "cell_type": "code",
   "execution_count": 17,
   "metadata": {},
   "outputs": [],
   "source": [
    "import pickle\n",
    "\n",
    "filename = 'estimasi_cleansheets.sav'\n",
    "pickle.dump(lr,open(filename,'wb'))"
   ]
  }
 ],
 "metadata": {
  "kernelspec": {
   "display_name": "base",
   "language": "python",
   "name": "python3"
  },
  "language_info": {
   "codemirror_mode": {
    "name": "ipython",
    "version": 3
   },
   "file_extension": ".py",
   "mimetype": "text/x-python",
   "name": "python",
   "nbconvert_exporter": "python",
   "pygments_lexer": "ipython3",
   "version": "3.10.10"
  },
  "orig_nbformat": 4
 },
 "nbformat": 4,
 "nbformat_minor": 2
}
